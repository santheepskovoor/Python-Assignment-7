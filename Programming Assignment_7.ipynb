{
 "cells": [
  {
   "cell_type": "markdown",
   "metadata": {},
   "source": [
    "## Programming Basic Assignment 7"
   ]
  },
  {
   "cell_type": "markdown",
   "metadata": {},
   "source": [
    "### 1. Write a Python Program to find sum of array?"
   ]
  },
  {
   "cell_type": "code",
   "execution_count": 10,
   "metadata": {},
   "outputs": [
    {
     "name": "stdout",
     "output_type": "stream",
     "text": [
      "The sum of array is 15\n"
     ]
    }
   ],
   "source": [
    "arr=[1,2,3,4,5]\n",
    "#sum of array is\n",
    "print(\"The sum of array is\",sum(arr))"
   ]
  },
  {
   "cell_type": "markdown",
   "metadata": {},
   "source": [
    "### 2. Write a Python Program to find largest element in an array?\n"
   ]
  },
  {
   "cell_type": "code",
   "execution_count": 12,
   "metadata": {},
   "outputs": [
    {
     "data": {
      "text/plain": [
       "5"
      ]
     },
     "execution_count": 12,
     "metadata": {},
     "output_type": "execute_result"
    }
   ],
   "source": [
    "arr=[1,2,3,4,5]\n",
    "max(arr)"
   ]
  },
  {
   "cell_type": "markdown",
   "metadata": {},
   "source": [
    "### 3. Write a Python Program for array rotation?"
   ]
  },
  {
   "cell_type": "code",
   "execution_count": 27,
   "metadata": {
    "scrolled": true
   },
   "outputs": [
    {
     "name": "stdout",
     "output_type": "stream",
     "text": [
      "Rotated array\n",
      "[31, 32, 33, 34, 29, 30]\n"
     ]
    }
   ],
   "source": [
    "#Define function to rotate element\n",
    "def rotatearr(start,end):\n",
    "# Define the length\n",
    "    n=len(start)\n",
    "#Use splicing operator ( : ) to store the elements from \"start\" to \"end\" and 0 to \"end\"\n",
    "    start[:]=start[end:n]+start[0:end]\n",
    "    return start\n",
    "arr = [29, 30, 31, 32, 33, 34]\n",
    "print(\"Rotated array\")\n",
    "print(rotatearr(arr,2))"
   ]
  },
  {
   "cell_type": "markdown",
   "metadata": {},
   "source": [
    "### 4. Write a Python Program to Split the array and add the first part to the end?"
   ]
  },
  {
   "cell_type": "code",
   "execution_count": 12,
   "metadata": {},
   "outputs": [
    {
     "name": "stdout",
     "output_type": "stream",
     "text": [
      "30, 40, 50, 60, 70, 80, 90, 100, 10, 20, "
     ]
    }
   ],
   "source": [
    "#define the function split and add the first part to end\n",
    "def splitarray(arr,l,p):\n",
    "    for i in range(0,p):\n",
    "        x= arr[0]\n",
    "#pass forloop which moves the elements one place\n",
    "        for j in range(0,l-1):\n",
    "            arr[j]=arr[j+1]\n",
    "#pass the last element value to x\n",
    "        arr[l-1]=x\n",
    "#pass array need to be split and add to the first part\n",
    "arr=[10,20,30,40,50,60,70,80,90,100]\n",
    "#define length\n",
    "l=len(arr)\n",
    "#Pass the position from the beggining of the array need to add to the end of the array\n",
    "position = 2\n",
    "#pass the function to split and add the first 2 position to the end\n",
    "splitarray(arr,l,position)\n",
    "# Now we can print the result by using a for loop statement\n",
    "for i in range(0,l):\n",
    "    print(arr[i],end=', ')"
   ]
  },
  {
   "cell_type": "markdown",
   "metadata": {},
   "source": [
    "### 5. Write a Python Program to check if given array is Monotonic?"
   ]
  },
  {
   "cell_type": "code",
   "execution_count": 19,
   "metadata": {},
   "outputs": [
    {
     "name": "stdout",
     "output_type": "stream",
     "text": [
      "True\n"
     ]
    }
   ],
   "source": [
    "#define a function to check the array is monotunic\n",
    "def monotunic(X):\n",
    "    return(all(X[i]<=X[i+1]for i in range(len(X)-1)) or\n",
    "           all(X[i]>=X[i+j]for i in range(len(X)-1))) \n",
    "arr=[10,20,30,40,50,60,70,80,90,100]\n",
    "print(monotunic(arr))"
   ]
  },
  {
   "cell_type": "code",
   "execution_count": null,
   "metadata": {},
   "outputs": [],
   "source": []
  }
 ],
 "metadata": {
  "kernelspec": {
   "display_name": "Python 3",
   "language": "python",
   "name": "python3"
  },
  "language_info": {
   "codemirror_mode": {
    "name": "ipython",
    "version": 3
   },
   "file_extension": ".py",
   "mimetype": "text/x-python",
   "name": "python",
   "nbconvert_exporter": "python",
   "pygments_lexer": "ipython3",
   "version": "3.8.5"
  }
 },
 "nbformat": 4,
 "nbformat_minor": 5
}
